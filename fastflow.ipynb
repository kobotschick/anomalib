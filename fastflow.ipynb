{
 "cells": [
  {
   "cell_type": "code",
   "execution_count": 4,
   "id": "50facba7-b43d-4be8-ac78-9881bf912620",
   "metadata": {
    "execution": {
     "iopub.execute_input": "2022-04-07T16:20:39.706989Z",
     "iopub.status.busy": "2022-04-07T16:20:39.706695Z",
     "iopub.status.idle": "2022-04-07T16:20:44.607966Z",
     "shell.execute_reply": "2022-04-07T16:20:44.607015Z",
     "shell.execute_reply.started": "2022-04-07T16:20:39.706955Z"
    }
   },
   "outputs": [
    {
     "name": "stdout",
     "output_type": "stream",
     "text": [
      "WARNING: A conda environment already exists at '/opt/conda/envs/anomalib'\n",
      "Remove existing environment (y/[n])? ^C\n",
      "\n",
      "CondaSystemExit: \n",
      "Operation aborted.  Exiting.\n",
      "\n"
     ]
    }
   ],
   "source": [
    " !conda create -n anomalib"
   ]
  },
  {
   "cell_type": "code",
   "execution_count": null,
   "id": "98bfe129-deb5-46d5-ace4-b38db654fac1",
   "metadata": {},
   "outputs": [],
   "source": [
    "conda install pytorch torchvision torchaudio cudatoolkit=11.3 -c pytorch"
   ]
  }
 ],
 "metadata": {
  "kernelspec": {
   "display_name": "Python 3 (ipykernel)",
   "language": "python",
   "name": "python3"
  },
  "language_info": {
   "codemirror_mode": {
    "name": "ipython",
    "version": 3
   },
   "file_extension": ".py",
   "mimetype": "text/x-python",
   "name": "python",
   "nbconvert_exporter": "python",
   "pygments_lexer": "ipython3",
   "version": "3.8.12"
  }
 },
 "nbformat": 4,
 "nbformat_minor": 5
}
